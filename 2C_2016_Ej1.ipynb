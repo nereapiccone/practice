{
 "cells": [
  {
   "cell_type": "markdown",
   "metadata": {},
   "source": [
    "Contamos con un cluster que tiene 4 computadoras. \n",
    "Queremos aprovechar el paralelismo del cluster para \n",
    "calcular los números primos entre 2 y 20.000.000. \n",
    "Para esto usaremos el conocido algoritmo de la criba \n",
    "de Eratóstenes. Por ejemplo si empezamos con una lista \n",
    "de tipo (2,3,4,5,6,7,8...) en un primer paso eliminamos \n",
    "todos los que son mayores a 2 y divisibles por 2 y nos \n",
    "queda (2,3,5,7,9,11,13…) luego eliminamos todos los \n",
    "mayores a 3 divisibles por 3 y nos queda (2,3,5,7,11,13….etc) \n",
    "luego todos los divisibles por 5 y así sucesivamente. \n",
    "El resultado final es una lista de números que son primos."
   ]
  },
  {
   "cell_type": "code",
   "execution_count": 107,
   "metadata": {},
   "outputs": [],
   "source": [
    "import pyspark\n",
    "try: \n",
    "    type(sc)\n",
    "except(NameError):\n",
    "    sc = pyspark.SparkContext('local[*]')\n",
    "    \n",
    "criba = sc.parallelize(range(2,200),4)\n",
    "criba.take(3)"
   ]
  },
  {
   "cell_type": "code",
   "execution_count": 109,
   "metadata": {},
   "outputs": [],
   "source": [
    "def greaterNumber(x):\n",
    "    y = 2;\n",
    "    while ((x > y) & (y<201)):\n",
    "        if (x%y == 0):\n",
    "            return False\n",
    "        y = y+1;\n",
    "    return True"
   ]
  },
  {
   "cell_type": "code",
   "execution_count": 110,
   "metadata": {},
   "outputs": [
    {
     "data": {
      "text/plain": [
       "[2,\n",
       " 3,\n",
       " 5,\n",
       " 7,\n",
       " 11,\n",
       " 13,\n",
       " 17,\n",
       " 19,\n",
       " 23,\n",
       " 29,\n",
       " 31,\n",
       " 37,\n",
       " 41,\n",
       " 43,\n",
       " 47,\n",
       " 53,\n",
       " 59,\n",
       " 61,\n",
       " 67,\n",
       " 71,\n",
       " 73,\n",
       " 79,\n",
       " 83,\n",
       " 89,\n",
       " 97,\n",
       " 101,\n",
       " 103,\n",
       " 107,\n",
       " 109,\n",
       " 113,\n",
       " 127,\n",
       " 131,\n",
       " 137,\n",
       " 139,\n",
       " 149,\n",
       " 151,\n",
       " 157,\n",
       " 163,\n",
       " 167,\n",
       " 173,\n",
       " 179,\n",
       " 181,\n",
       " 191,\n",
       " 193,\n",
       " 197,\n",
       " 199]"
      ]
     },
     "execution_count": 110,
     "metadata": {},
     "output_type": "execute_result"
    }
   ],
   "source": [
    "criba2 = criba.map(lambda x: x if (greaterNumber(x) == True) else 0).filter(lambda x: x!=0)\n",
    "criba2.take(60)"
   ]
  }
 ],
 "metadata": {
  "kernelspec": {
   "display_name": "Python 2",
   "language": "python",
   "name": "python2"
  },
  "language_info": {
   "codemirror_mode": {
    "name": "ipython",
    "version": 2
   },
   "file_extension": ".py",
   "mimetype": "text/x-python",
   "name": "python",
   "nbconvert_exporter": "python",
   "pygments_lexer": "ipython2",
   "version": "2.7.14"
  }
 },
 "nbformat": 4,
 "nbformat_minor": 2
}
