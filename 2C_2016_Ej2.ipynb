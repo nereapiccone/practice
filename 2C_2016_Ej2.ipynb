{
 "cells": [
  {
   "cell_type": "code",
   "execution_count": 119,
   "metadata": {},
   "outputs": [],
   "source": [
    "import pyspark\n",
    "try:\n",
    "    type(sc)\n",
    "except NameError:\n",
    "    sc = pyspark.SparkContext('local[*]')"
   ]
  },
  {
   "cell_type": "code",
   "execution_count": 120,
   "metadata": {},
   "outputs": [
    {
     "data": {
      "text/plain": [
       "[(1, 'dinamita azul mentirosa dinamita'),\n",
       " (3, 'estupendo auto rosa'),\n",
       " (2, 'calesita rodante mala')]"
      ]
     },
     "execution_count": 120,
     "metadata": {},
     "output_type": "execute_result"
    }
   ],
   "source": [
    "#Armo el caso de prueba y paralelizo\n",
    "text1 = \"dinamita azul mentirosa dinamita\"\n",
    "text2 = \"estupendo auto rosa\"\n",
    "text3 = \"calesita rodante mala\"\n",
    "docsRDD = sc.parallelize([(1,text1), (3, text2), (2, text3)])\n",
    "docsRDD.take(3)"
   ]
  },
  {
   "cell_type": "code",
   "execution_count": 121,
   "metadata": {},
   "outputs": [
    {
     "data": {
      "text/plain": [
       "[('dinamita', 1), ('azul', 1), ('mentirosa', 1), ('dinamita', 1)]"
      ]
     },
     "execution_count": 121,
     "metadata": {},
     "output_type": "execute_result"
    }
   ],
   "source": [
    "#lo llevo a la forma (término, docID)\n",
    "wordsRDD = docsRDD.flatMap(lambda x: map(lambda y: ((y,x[0])),x[1].split()))\n",
    "wordsRDD.take(4)"
   ]
  },
  {
   "cell_type": "code",
   "execution_count": 122,
   "metadata": {},
   "outputs": [
    {
     "data": {
      "text/plain": [
       "[(('dinamita', 1), 2), (('rosa', 3), 1), (('auto', 3), 1)]"
      ]
     },
     "execution_count": 122,
     "metadata": {},
     "output_type": "execute_result"
    }
   ],
   "source": [
    "#no me interesan las repetidas, lo llevo a la forma (término, docID, 1) y los reduzco\n",
    "wordsRDD = docsRDD.flatMap(lambda x: map(lambda y: ((y,x[0]),1),x[1].split()))\n",
    "wordsRDD = wordsRDD.reduceByKey(lambda x,y: x+y)\n",
    "wordsRDD.take(3)"
   ]
  },
  {
   "cell_type": "code",
   "execution_count": 123,
   "metadata": {},
   "outputs": [
    {
     "data": {
      "text/plain": [
       "[('dinamita', (1, 2)), ('rosa', (3, 1)), ('auto', (3, 1))]"
      ]
     },
     "execution_count": 123,
     "metadata": {},
     "output_type": "execute_result"
    }
   ],
   "source": [
    "#Dejo como clave el término\n",
    "wordsRDD = wordsRDD.map(lambda x: (x[0][0],(x[0][1],x[1])))\n",
    "wordsRDD.take(3)"
   ]
  },
  {
   "cell_type": "code",
   "execution_count": 124,
   "metadata": {},
   "outputs": [
    {
     "data": {
      "text/plain": [
       "[[(1, 'dinamita', 2), (1, 'mentirosa', 1), (1, 'azul', 1)],\n",
       " [(2, 'estupendo', -1), (2, 'auto', 4)],\n",
       " [(3, 'rodante', 0)]]"
      ]
     },
     "execution_count": 124,
     "metadata": {},
     "output_type": "execute_result"
    }
   ],
   "source": [
    "#armo el set para los pointsRDD y paralelizo\n",
    "pointsRDDUser1 = [(1,\"dinamita\",2),(1,\"mentirosa\",1),(1,\"azul\",1)]\n",
    "pointsRDDUser2 = [(2,\"estupendo\",-1),(2,\"auto\",4)]\n",
    "pointsRDDUser3 = [(3,\"rodante\",0)]\n",
    "\n",
    "pointsRDD = sc.parallelize([pointsRDDUser1,pointsRDDUser2,pointsRDDUser3])\n",
    "pointsRDD.take(3)"
   ]
  },
  {
   "cell_type": "code",
   "execution_count": 125,
   "metadata": {},
   "outputs": [
    {
     "data": {
      "text/plain": [
       "[('dinamita', (1, 2)),\n",
       " ('mentirosa', (1, 1)),\n",
       " ('azul', (1, 1)),\n",
       " ('estupendo', (2, -1))]"
      ]
     },
     "execution_count": 125,
     "metadata": {},
     "output_type": "execute_result"
    }
   ],
   "source": [
    "pointsRDD = sc.parallelize([pointsRDDUser1,pointsRDDUser2,pointsRDDUser3])\n",
    "\n",
    "#llevarlo a (término, (scoreInvidivual,userID))\n",
    "pointsRDD = pointsRDD.flatMap(lambda x: x).map(lambda x: (x[1],(x[0],x[2])))\n",
    "pointsRDD.take(4)"
   ]
  },
  {
   "cell_type": "code",
   "execution_count": 126,
   "metadata": {},
   "outputs": [
    {
     "data": {
      "text/plain": [
       "[('estupendo', ((3, 1), (2, -1))), ('rodante', ((2, 1), (3, 0)))]"
      ]
     },
     "execution_count": 126,
     "metadata": {},
     "output_type": "execute_result"
    }
   ],
   "source": [
    "#unimos ambas listas con términos como clave -> (término,(DocId, repetición),(userID,scoreIndividual))\n",
    "points = wordsRDD.join(pointsRDD)\n",
    "points.take(2)"
   ]
  },
  {
   "cell_type": "code",
   "execution_count": 127,
   "metadata": {},
   "outputs": [
    {
     "data": {
      "text/plain": [
       "[((3, 2), -1), ((2, 3), 0), ((1, 1), 1)]"
      ]
     },
     "execution_count": 127,
     "metadata": {},
     "output_type": "execute_result"
    }
   ],
   "source": [
    "# lo llevamos a (usuario,docId,(score * repeticion))\n",
    "Score = points.map(lambda x: ((x[1][0][0], x[1][1][0]), (x[1][1][1] * x[1][0][1])))\n",
    "Score.take(3)"
   ]
  },
  {
   "cell_type": "code",
   "execution_count": 128,
   "metadata": {},
   "outputs": [
    {
     "data": {
      "text/plain": [
       "[((1, 1), 6), ((2, 3), 0), ((3, 2), 3)]"
      ]
     },
     "execution_count": 128,
     "metadata": {},
     "output_type": "execute_result"
    }
   ],
   "source": [
    "Score = Score.reduceByKey(lambda x,y: x+y)\n",
    "Score.collect()"
   ]
  },
 ],
 "metadata": {
  "kernelspec": {
   "display_name": "Python 2",
   "language": "python",
   "name": "python2"
  },
  "language_info": {
   "codemirror_mode": {
    "name": "ipython",
    "version": 2
   },
   "file_extension": ".py",
   "mimetype": "text/x-python",
   "name": "python",
   "nbconvert_exporter": "python",
   "pygments_lexer": "ipython2",
   "version": "2.7.14"
  }
 },
 "nbformat": 4,
 "nbformat_minor": 2
}
