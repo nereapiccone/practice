{
 "cells": [
  {
   "cell_type": "code",
   "execution_count": 237,
   "metadata": {},
   "outputs": [
    {
     "data": {
      "text/html": [
       "<style>.container { width:90% !important; }</style>"
      ],
      "text/plain": [
       "<IPython.core.display.HTML object>"
      ]
     },
     "metadata": {},
     "output_type": "display_data"
    }
   ],
   "source": [
    "from IPython.core.display import display, HTML\n",
    "display(HTML(\"<style>.container { width:90% !important; }</style>\"))\n",
    "\n",
    "import pandas as pd\n",
    "import numpy as np\n",
    "import seaborn as sns\n",
    "import matplotlib.pyplot as plt\n",
    "%matplotlib inline\n",
    "\n",
    "file1 = pd.read_csv('data/resto/chefmozaccepts.csv')\n",
    "file2 = pd.read_csv('data/resto/chefmozcuisine.csv')\n",
    "file3 = pd.read_csv('data/resto/chefmozhours4.csv')\n",
    "file4 = pd.read_csv('data/resto/chefmozparking.csv')\n",
    "file5 = pd.read_csv('data/resto/geoplaces2.csv')\n",
    "file6 = pd.read_csv('data/resto/rating_final.csv')\n",
    "file7 = pd.read_csv('data/resto/usercuisine.csv')\n",
    "file8 = pd.read_csv('data/resto/userpayment.csv')\n",
    "file9 = pd.read_csv('data/resto/userprofile.csv')"
   ]
  },
  {
   "cell_type": "markdown",
   "metadata": {},
   "source": [
    "# ¿Qué tenemos en file1? "
   ]
  },
  {
   "cell_type": "code",
   "execution_count": 238,
   "metadata": {},
   "outputs": [
    {
     "name": "stdout",
     "output_type": "stream",
     "text": [
      "Cantidad? No vaya a ser que haga una muestra de tooodos los datos\n",
      "1314\n",
      "Un par de datos:\n",
      "      placeID             Rpayment\n",
      "1309   132012          Diners_Club\n",
      "1310   132002  MasterCard-Eurocard\n",
      "1311   132002                 Visa\n",
      "1312   132002     American_Express\n",
      "1313   132002          Diners_Club\n",
      "Algunas estadísticas:\n",
      "             placeID\n",
      "count    1314.000000\n",
      "mean   133218.739726\n",
      "std      1058.270738\n",
      "min    132002.000000\n",
      "25%    132580.250000\n",
      "50%    132788.500000\n",
      "75%    133035.750000\n",
      "max    135110.000000\n",
      "Qué datos?:\n",
      "Index([u'placeID', u'Rpayment'], dtype='object')\n",
      "Más info:\n",
      "<class 'pandas.core.frame.DataFrame'>\n",
      "RangeIndex: 1314 entries, 0 to 1313\n",
      "Data columns (total 2 columns):\n",
      "placeID     1314 non-null int64\n",
      "Rpayment    1314 non-null object\n",
      "dtypes: int64(1), object(1)\n",
      "memory usage: 15.4+ KB\n",
      "None\n"
     ]
    }
   ],
   "source": [
    "print \"Cantidad? No vaya a ser que haga una muestra de tooodos los datos\"\n",
    "print len(file1)\n",
    "print \"Un par de datos:\"\n",
    "print file1.tail()\n",
    "print \"Algunas estadísticas:\"\n",
    "print file1.describe()\n",
    "print \"Qué datos?:\"\n",
    "print file1.columns\n",
    "print \"Más info:\"\n",
    "print file1.info()"
   ]
  },
  {
   "cell_type": "markdown",
   "metadata": {},
   "source": [
    "## Formas de pago más comunes\n",
    "#### ¿Son formas de pago? Tenemos las distintas formas de pago dadas en sucursales"
   ]
  },
  {
   "cell_type": "code",
   "execution_count": 239,
   "metadata": {},
   "outputs": [
    {
     "name": "stdout",
     "output_type": "stream",
     "text": [
      "12\n",
      "0                      cash\n",
      "1                      VISA\n",
      "2       MasterCard-Eurocard\n",
      "3          American_Express\n",
      "4          bank_debit_cards\n",
      "298                  checks\n",
      "302                Discover\n",
      "401           Carte_Blanche\n",
      "963             Diners_Club\n",
      "1004                   Visa\n",
      "1009    Japan_Credit_Bureau\n",
      "1027      gift_certificates\n",
      "Name: Rpayment, dtype: object\n"
     ]
    }
   ],
   "source": [
    "payment = file1['Rpayment']\n",
    "payment.drop_duplicates(keep='first', inplace=True)\n",
    "print len(payment)\n",
    "print payment"
   ]
  },
  {
   "cell_type": "code",
   "execution_count": 240,
   "metadata": {},
   "outputs": [
    {
     "name": "stdout",
     "output_type": "stream",
     "text": [
      "                     placeID\n",
      "Rpayment                    \n",
      "CASH                     500\n",
      "VISA                     255\n",
      "MASTERCARD-EUROCARD      194\n",
      "AMERICAN_EXPRESS         153\n",
      "BANK_DEBIT_CARDS         130\n",
      "DINERS_CLUB               42\n",
      "DISCOVER                  11\n",
      "CHECKS                    10\n",
      "CARTE_BLANCHE              7\n",
      "GIFT_CERTIFICATES          7\n",
      "JAPAN_CREDIT_BUREAU        5\n"
     ]
    }
   ],
   "source": [
    "payment = file1[['Rpayment', 'placeID']]\n",
    "#Para solucionar VISA -> Visa\n",
    "payment['Rpayment'] = map(lambda x: x.upper(), payment['Rpayment'])\n",
    "payment = payment.groupby(['Rpayment']).count().sort_values(by='placeID',ascending = False)\n",
    "print payment"
   ]
  },
  {
   "cell_type": "code",
   "execution_count": 241,
   "metadata": {},
   "outputs": [
    {
     "data": {
      "text/plain": [
       "<matplotlib.axes._subplots.AxesSubplot at 0xa8b2f06c>"
      ]
     },
     "execution_count": 241,
     "metadata": {},
     "output_type": "execute_result"
    },
    {
     "data": {
      "image/png": "[encoded data removed]",
      "text/plain": [
       "<matplotlib.figure.Figure at 0xa8b2f46c>"
      ]
     },
     "metadata": {},
     "output_type": "display_data"
    }
   ],
   "source": [
    "payment.plot(kind = 'bar', alpha=0.40, figsize=(12,8), sort_columns = True)"
   ]
  },
  {
   "cell_type": "markdown",
   "metadata": {},
   "source": [
    "## ¿Cuántas fragancias tiene esta línea de restaurantes? "
   ]
  },
  {
   "cell_type": "code",
   "execution_count": 242,
   "metadata": {},
   "outputs": [
    {
     "name": "stdout",
     "output_type": "stream",
     "text": [
      "615\n"
     ]
    }
   ],
   "source": [
    "fragancias = file1['placeID']\n",
    "fragancias.drop_duplicates(keep='first', inplace=True)\n",
    "print len(fragancias)"
   ]
  },
  {
   "cell_type": "markdown",
   "metadata": {},
   "source": [
    "# ¿Qué tenemos en file2? "
   ]
  },
  {
   "cell_type": "code",
   "execution_count": 243,
   "metadata": {},
   "outputs": [
    {
     "name": "stdout",
     "output_type": "stream",
     "text": [
      "Cantidad? No vaya a ser que haga una muestra de tooodos los datos\n",
      "916\n",
      "Un par de datos:\n",
      "     placeID       Rcuisine\n",
      "915   132001  Dutch-Belgian\n",
      "914   132002        Seafood\n",
      "913   132003  International\n",
      "912   132004        Seafood\n",
      "911   132005        Seafood\n",
      "Algunas estadísticas:\n",
      "             placeID\n",
      "count     916.000000\n",
      "mean   132897.174672\n",
      "std       923.601711\n",
      "min    132001.000000\n",
      "25%    132323.250000\n",
      "50%    132630.500000\n",
      "75%    132907.250000\n",
      "max    135110.000000\n",
      "Qué datos?:\n",
      "Index([u'placeID', u'Rcuisine'], dtype='object')\n",
      "Más info:\n",
      "<class 'pandas.core.frame.DataFrame'>\n",
      "RangeIndex: 916 entries, 0 to 915\n",
      "Data columns (total 2 columns):\n",
      "placeID     916 non-null int64\n",
      "Rcuisine    916 non-null object\n",
      "dtypes: int64(1), object(1)\n",
      "memory usage: 10.8+ KB\n",
      "None\n"
     ]
    }
   ],
   "source": [
    "print \"Cantidad? No vaya a ser que haga una muestra de tooodos los datos\"\n",
    "print len(file2)\n",
    "print \"Un par de datos:\"\n",
    "print file2.tail().sort_values(by= 'placeID',ascending = True)\n",
    "print \"Algunas estadísticas:\"\n",
    "print file2.describe()\n",
    "print \"Qué datos?:\"\n",
    "print file2.columns\n",
    "print \"Más info:\"\n",
    "print file2.info()"
   ]
  },
  {
   "cell_type": "markdown",
   "metadata": {},
   "source": [
    "## ¿Qué vende?"
   ]
  },
  {
   "cell_type": "code",
   "execution_count": 244,
   "metadata": {},
   "outputs": [
    {
     "name": "stdout",
     "output_type": "stream",
     "text": [
      "Cantidad de fragancias:\n",
      "769\n",
      "Variedad\n",
      "59\n",
      "0                   Spanish\n",
      "1                   Italian\n",
      "2            Latin_American\n",
      "3                   Mexican\n",
      "4                 Fast_Food\n",
      "6                   Burgers\n",
      "7         Dessert-Ice_Cream\n",
      "9                  Hot_Dogs\n",
      "12                   Steaks\n",
      "17                    Asian\n",
      "19            International\n",
      "20                Mongolian\n",
      "22               Vegetarian\n",
      "23                Brazilian\n",
      "27         Cafe-Coffee_Shop\n",
      "28                Cafeteria\n",
      "29             Contemporary\n",
      "30          Deli-Sandwiches\n",
      "31                    Diner\n",
      "37                 Japanese\n",
      "38                    Sushi\n",
      "40                  Seafood\n",
      "45                  Chinese\n",
      "48                      Bar\n",
      "49          Bar_Pub_Brewery\n",
      "57                 Pizzeria\n",
      "115           Mediterranean\n",
      "134                American\n",
      "136                  Family\n",
      "140               Caribbean\n",
      "183                 African\n",
      "185        Breakfast-Brunch\n",
      "234                Regional\n",
      "246                  Afghan\n",
      "259                  Bakery\n",
      "277                    Game\n",
      "304                Armenian\n",
      "344              Vietnamese\n",
      "373                  Korean\n",
      "413                    Thai\n",
      "414                Barbecue\n",
      "515                  Polish\n",
      "517           Dutch-Belgian\n",
      "524                  French\n",
      "555                  German\n",
      "559            Southwestern\n",
      "569                 Persian\n",
      "582               Ethiopian\n",
      "583                   Juice\n",
      "628                    Soup\n",
      "635    Continental-European\n",
      "636                   Greek\n",
      "710                Southern\n",
      "740        Eastern_European\n",
      "768              California\n",
      "809                  Bagels\n",
      "843                 Turkish\n",
      "859         Organic-Healthy\n",
      "881             Fine_Dining\n",
      "Name: Rcuisine, dtype: object\n"
     ]
    }
   ],
   "source": [
    "fragancias = file2['placeID']\n",
    "fragancias.drop_duplicates(keep='first', inplace=True)\n",
    "print \"Cantidad de fragancias:\"\n",
    "print len(fragancias)\n",
    "\n",
    "platos = file2['Rcuisine']\n",
    "platos.drop_duplicates(keep='first', inplace=True)\n",
    "print \"Variedad\"\n",
    "print len(platos)\n",
    "print platos"
   ]
  },
  {
   "cell_type": "code",
   "execution_count": 245,
   "metadata": {},
   "outputs": [
    {
     "name": "stdout",
     "output_type": "stream",
     "text": [
      "                      placeID\n",
      "Rcuisine                     \n",
      "MEXICAN                   239\n",
      "INTERNATIONAL              62\n",
      "AMERICAN                   59\n",
      "DUTCH-BELGIAN              55\n",
      "ITALIAN                    42\n",
      "GREEK                      33\n",
      "BAR                        32\n",
      "FRENCH                     31\n",
      "CAFE-COFFEE_SHOP           27\n",
      "PIZZERIA                   25\n",
      "BAR_PUB_BREWERY            24\n",
      "CAFETERIA                  23\n",
      "CHINESE                    21\n",
      "FAST_FOOD                  20\n",
      "SEAFOOD                    18\n",
      "JAPANESE                   17\n",
      "FAMILY                     14\n",
      "GERMAN                     14\n",
      "MEDITERRANEAN              13\n",
      "BURGERS                    13\n",
      "VEGETARIAN                 10\n",
      "DELI-SANDWICHES             9\n",
      "CONTEMPORARY                9\n",
      "STEAKS                      8\n",
      "LATIN_AMERICAN              7\n",
      "ASIAN                       7\n",
      "HOT_DOGS                    7\n",
      "SUSHI                       6\n",
      "JUICE                       6\n",
      "BAKERY                      6\n",
      "ARMENIAN                    5\n",
      "POLISH                      5\n",
      "CONTINENTAL-EUROPEAN        4\n",
      "BARBECUE                    3\n",
      "AFRICAN                     3\n",
      "REGIONAL                    3\n",
      "BREAKFAST-BRUNCH            3\n",
      "SOUTHWESTERN                3\n",
      "SPANISH                     3\n",
      "DINER                       3\n",
      "DESSERT-ICE_CREAM           3\n",
      "VIETNAMESE                  2\n",
      "EASTERN_EUROPEAN            2\n",
      "GAME                        2\n",
      "MONGOLIAN                   1\n",
      "BAGELS                      1\n",
      "TURKISH                     1\n",
      "THAI                        1\n",
      "BRAZILIAN                   1\n",
      "CALIFORNIA                  1\n",
      "CARIBBEAN                   1\n",
      "SOUTHERN                    1\n",
      "ORGANIC-HEALTHY             1\n",
      "SOUP                        1\n",
      "ETHIOPIAN                   1\n",
      "FINE_DINING                 1\n",
      "KOREAN                      1\n",
      "PERSIAN                     1\n",
      "AFGHAN                      1\n"
     ]
    }
   ],
   "source": [
    "platos = file2[['Rcuisine', 'placeID']]\n",
    "platos['Rcuisine'] = map(lambda x: x.upper(), platos['Rcuisine'])\n",
    "platos = platos.groupby(['Rcuisine']).count().sort_values(by='placeID',ascending = False)\n",
    "print platos"
   ]
  },
  {
   "cell_type": "markdown",
   "metadata": {},
   "source": [
    "## ¿Será mexicano el restaurante?"
   ]
  },
  {
   "cell_type": "code",
   "execution_count": 246,
   "metadata": {},
   "outputs": [
    {
     "data": {
      "text/plain": [
       "<matplotlib.axes._subplots.AxesSubplot at 0xa8a3f92c>"
      ]
     },
     "execution_count": 246,
     "metadata": {},
     "output_type": "execute_result"
    },
    {
     "data": {
      "image/png": "[encoded data removed]",
      "text/plain": [
       "<matplotlib.figure.Figure at 0xa9d7f6ec>"
      ]
     },
     "metadata": {},
     "output_type": "display_data"
    }
   ],
   "source": [
    "platos[0:18].plot(kind = 'bar', alpha=0.40, figsize=(12,8), sort_columns = True)"
   ]
  },
  {
   "cell_type": "markdown",
   "metadata": {},
   "source": [
    "# ¿Qué tenemos en file3? "
   ]
  },
  {
   "cell_type": "code",
   "execution_count": 247,
   "metadata": {},
   "outputs": [
    {
     "name": "stdout",
     "output_type": "stream",
     "text": [
      "Cantidad? No vaya a ser que haga una muestra de tooodos los datos\n",
      "2339\n",
      "Un par de datos:\n",
      "      placeID         hours                  days\n",
      "2329   132023  11:00-00:00;                  Sun;\n",
      "2331   132023  11:00-00:00;  Mon;Tue;Wed;Thu;Fri;\n",
      "2333   132012  12:00-22:00;                  Sun;\n",
      "2335   132012  12:00-22:00;  Mon;Tue;Wed;Thu;Fri;\n",
      "2337   132012  12:00-22:00;                  Sat;\n",
      "Algunas estadísticas:\n",
      "             placeID\n",
      "count    2068.000000\n",
      "mean   133184.307544\n",
      "std       947.655983\n",
      "min    132012.000000\n",
      "25%    132654.750000\n",
      "50%    132832.000000\n",
      "75%    133011.000000\n",
      "max    135111.000000\n",
      "Qué datos?:\n",
      "Index([u'placeID', u'hours', u'days'], dtype='object')\n",
      "Más info:\n",
      "<class 'pandas.core.frame.DataFrame'>\n",
      "Int64Index: 2068 entries, 0 to 2337\n",
      "Data columns (total 3 columns):\n",
      "placeID    2068 non-null int64\n",
      "hours      2068 non-null object\n",
      "days       2068 non-null object\n",
      "dtypes: int64(1), object(2)\n",
      "memory usage: 48.5+ KB\n",
      "None\n"
     ]
    }
   ],
   "source": [
    "print \"Cantidad? No vaya a ser que haga una muestra de tooodos los datos\"\n",
    "print len(file3)\n",
    "file3.drop_duplicates(keep='first', inplace=True)\n",
    "print \"Un par de datos:\"\n",
    "print file3.tail()\n",
    "print \"Algunas estadísticas:\"\n",
    "print file3.describe()\n",
    "print \"Qué datos?:\"\n",
    "print file3.columns\n",
    "print \"Más info:\"\n",
    "print file3.info()"
   ]
  },
  {
   "cell_type": "markdown",
   "metadata": {},
   "source": [
    "# Horarios en que abren sus puertas"
   ]
  },
  {
   "cell_type": "code",
   "execution_count": 248,
   "metadata": {},
   "outputs": [
    {
     "name": "stdout",
     "output_type": "stream",
     "text": [
      "                      days                     hours  placeID\n",
      "2310                  Sun;              06:30-22:00;   132097\n",
      "2313                  Sun;  12:00-15:00;15:00-21:00;   132030\n",
      "2315  Mon;Tue;Wed;Thu;Fri;  12:00-15:00;15:00-21:00;   132030\n",
      "2317                  Sat;  12:00-15:00;15:00-21:00;   132030\n",
      "2319  Mon;Tue;Wed;Thu;Fri;              12:00-14:30;   132026\n"
     ]
    },
    {
     "name": "stderr",
     "output_type": "stream",
     "text": [
      "/usr/local/lib/python2.7/dist-packages/ipykernel_launcher.py:2: SettingWithCopyWarning: \n",
      "A value is trying to be set on a copy of a slice from a DataFrame\n",
      "\n",
      "See the caveats in the documentation: http://pandas.pydata.org/pandas-docs/stable/indexing.html#indexing-view-versus-copy\n",
      "  \n"
     ]
    }
   ],
   "source": [
    "schedule = file3[['days', 'hours', 'placeID']]\n",
    "schedule.drop_duplicates(subset=['days', 'hours'],keep='first', inplace=True)\n",
    "print schedule.tail()"
   ]
  },
  {
   "cell_type": "markdown",
   "metadata": {},
   "source": [
    "# ¿Qué tenemos en file4? "
   ]
  },
  {
   "cell_type": "code",
   "execution_count": 249,
   "metadata": {},
   "outputs": [
    {
     "name": "stdout",
     "output_type": "stream",
     "text": [
      "Cantidad? No vaya a ser que haga una muestra de tooodos los datos\n",
      "702\n",
      "Un par de datos:\n",
      "     placeID parking_lot\n",
      "697   132024      street\n",
      "698   132023         fee\n",
      "699   132023      public\n",
      "700   132012      public\n",
      "701   132012      street\n",
      "Algunas estadísticas:\n",
      "             placeID\n",
      "count     702.000000\n",
      "mean   133180.945869\n",
      "std       942.044238\n",
      "min    132012.000000\n",
      "25%    132649.250000\n",
      "50%    132826.500000\n",
      "75%    133008.750000\n",
      "max    135111.000000\n",
      "Qué datos?:\n",
      "Index([u'placeID', u'parking_lot'], dtype='object')\n",
      "Más info:\n",
      "<class 'pandas.core.frame.DataFrame'>\n",
      "RangeIndex: 702 entries, 0 to 701\n",
      "Data columns (total 2 columns):\n",
      "placeID        702 non-null int64\n",
      "parking_lot    702 non-null object\n",
      "dtypes: int64(1), object(1)\n",
      "memory usage: 8.3+ KB\n",
      "None\n"
     ]
    }
   ],
   "source": [
    "print \"Cantidad? No vaya a ser que haga una muestra de tooodos los datos\"\n",
    "print len(file4)\n",
    "print \"Un par de datos:\"\n",
    "print file4.tail()\n",
    "print \"Algunas estadísticas:\"\n",
    "print file4.describe()\n",
    "print \"Qué datos?:\"\n",
    "print file4.columns\n",
    "print \"Más info:\"\n",
    "print file4.info()"
   ]
  },
  {
   "cell_type": "code",
   "execution_count": 250,
   "metadata": {},
   "outputs": [
    {
     "name": "stdout",
     "output_type": "stream",
     "text": [
      "7\n",
      "0                 public\n",
      "1                   none\n",
      "7                    yes\n",
      "8          valet parking\n",
      "18                   fee\n",
      "616               street\n",
      "656    validated parking\n",
      "Name: parking_lot, dtype: object\n"
     ]
    }
   ],
   "source": [
    "parking = file4['parking_lot']\n",
    "parking.drop_duplicates(keep='first', inplace=True)\n",
    "print len(parking)\n",
    "print parking"
   ]
  },
  {
   "cell_type": "code",
   "execution_count": 251,
   "metadata": {},
   "outputs": [
    {
     "name": "stdout",
     "output_type": "stream",
     "text": [
      "                        placeID\n",
      "parking_lot                    \n",
      "No podés dejar el auto      348\n",
      "Tenés donde dejarlo         174\n",
      "public                      102\n",
      "street                       32\n",
      "fee                          22\n",
      "valet parking                21\n",
      "validated parking             3\n"
     ]
    }
   ],
   "source": [
    "parking = file4[['parking_lot', 'placeID']]\n",
    "parking['parking_lot'] = map(lambda x: 'No podés dejar el auto' if (x=='none') else ('Tenés donde dejarlo' if x == 'yes' else x), parking['parking_lot'])\n",
    "parking = parking.groupby(['parking_lot']).count().sort_values(by='placeID',ascending = False)\n",
    "print parking"
   ]
  },
  {
   "cell_type": "markdown",
   "metadata": {},
   "source": [
    "## ¿Dónde dejo mi auto?"
   ]
  },
  {
   "cell_type": "code",
   "execution_count": 252,
   "metadata": {},
   "outputs": [
    {
     "data": {
      "text/plain": [
       "<matplotlib.axes._subplots.AxesSubplot at 0xa89ccd4c>"
      ]
     },
     "execution_count": 252,
     "metadata": {},
     "output_type": "execute_result"
    },
    {
     "data": {
      "image/png": "[encoded data removed]",
      "text/plain": [
       "<matplotlib.figure.Figure at 0xa8adf06c>"
      ]
     },
     "metadata": {},
     "output_type": "display_data"
    }
   ],
   "source": [
    "parking.plot(kind = 'bar', alpha=0.40, figsize=(12,8), sort_columns = True)"
   ]
  },
  {
   "cell_type": "markdown",
   "metadata": {},
   "source": [
    "# ¿Qué tenemos en el file5?"
   ]
  },
  {
   "cell_type": "code",
   "execution_count": 253,
   "metadata": {},
   "outputs": [
    {
     "name": "stdout",
     "output_type": "stream",
     "text": [
      "Cantidad? No vaya a ser que haga una muestra de tooodos los datos\n",
      "130\n",
      "Un par de datos:\n",
      "     placeID   latitude   longitude  \\\n",
      "125   132866  22.141220 -100.931311   \n",
      "126   135072  22.149192 -101.002936   \n",
      "127   135109  18.921785  -99.235350   \n",
      "128   135019  18.875011  -99.159422   \n",
      "129   132877  22.135364 -100.934948   \n",
      "\n",
      "                                        the_geom_meter  \\\n",
      "125  0101000020957F000013871838EC4A58C1B5DF74F8E396...   \n",
      "126  0101000020957F0000E7B79B1DB94758C1D29BC363D8AA...   \n",
      "127  0101000020957F0000A6BF695F136F5AC1DADF87B20556...   \n",
      "128  0101000020957F0000B49B2E5C6E785AC12F9D58435241...   \n",
      "129  0101000020957F000090735015B84B58C1AF0DC0414698...   \n",
      "\n",
      "                            name  \\\n",
      "125                      Chaires   \n",
      "126                   Sushi Itto   \n",
      "127                    Paniroles   \n",
      "128  Restaurant Bar Coty y Pablo   \n",
      "129             sirloin stockade   \n",
      "\n",
      "                                             address             city  \\\n",
      "125                                 Ricardo B. Anaya  San Luis Potosi   \n",
      "126               Venustiano Carranza 1809 C Polanco  San Luis Potosi   \n",
      "127                                                ?                ?   \n",
      "128  Paseo de Las Fuentes 24 Pedregal de Las Fuentes         Jiutepec   \n",
      "129                                                ?                ?   \n",
      "\n",
      "               state country fax      ...                  alcohol  \\\n",
      "125  San Luis Potosi  Mexico   ?      ...        No_Alcohol_Served   \n",
      "126              SLP  Mexico   ?      ...        No_Alcohol_Served   \n",
      "127                ?       ?   ?      ...                Wine-Beer   \n",
      "128          Morelos  Mexico   ?      ...        No_Alcohol_Served   \n",
      "129                ?       ?   ?      ...        No_Alcohol_Served   \n",
      "\n",
      "      smoking_area dress_code     accessibility   price                url  \\\n",
      "125  not permitted   informal        completely  medium                  ?   \n",
      "126           none   informal  no_accessibility  medium  sushi-itto.com.mx   \n",
      "127  not permitted   informal  no_accessibility  medium                  ?   \n",
      "128           none   informal        completely     low                  ?   \n",
      "129           none   informal        completely     low                  ?   \n",
      "\n",
      "    Rambience franchise    area other_services  \n",
      "125  familiar         f  closed           none  \n",
      "126  familiar         f  closed           none  \n",
      "127     quiet         f  closed       Internet  \n",
      "128  familiar         f  closed           none  \n",
      "129  familiar         f  closed           none  \n",
      "\n",
      "[5 rows x 21 columns]\n",
      "Algunas estadísticas:\n",
      "             placeID    latitude   longitude\n",
      "count     130.000000  130.000000  130.000000\n",
      "mean   134012.784615   21.858863 -100.342933\n",
      "std      1140.644582    1.496830    0.860585\n",
      "min    132560.000000   18.859803 -101.028600\n",
      "25%    132831.000000   22.139574 -100.987838\n",
      "50%    134994.000000   22.149063 -100.956777\n",
      "75%    135050.750000   22.160125  -99.220458\n",
      "max    135109.000000   23.760268  -99.126506\n",
      "Qué datos?:\n",
      "Index([u'placeID', u'latitude', u'longitude', u'the_geom_meter', u'name',\n",
      "       u'address', u'city', u'state', u'country', u'fax', u'zip', u'alcohol',\n",
      "       u'smoking_area', u'dress_code', u'accessibility', u'price', u'url',\n",
      "       u'Rambience', u'franchise', u'area', u'other_services'],\n",
      "      dtype='object')\n",
      "Más info:\n",
      "<class 'pandas.core.frame.DataFrame'>\n",
      "RangeIndex: 130 entries, 0 to 129\n",
      "Data columns (total 21 columns):\n",
      "placeID           130 non-null int64\n",
      "latitude          130 non-null float64\n",
      "longitude         130 non-null float64\n",
      "the_geom_meter    130 non-null object\n",
      "name              130 non-null object\n",
      "address           130 non-null object\n",
      "city              130 non-null object\n",
      "state             130 non-null object\n",
      "country           130 non-null object\n",
      "fax               130 non-null object\n",
      "zip               130 non-null object\n",
      "alcohol           130 non-null object\n",
      "smoking_area      130 non-null object\n",
      "dress_code        130 non-null object\n",
      "accessibility     130 non-null object\n",
      "price             130 non-null object\n",
      "url               130 non-null object\n",
      "Rambience         130 non-null object\n",
      "franchise         130 non-null object\n",
      "area              130 non-null object\n",
      "other_services    130 non-null object\n",
      "dtypes: float64(2), int64(1), object(18)\n",
      "memory usage: 12.2+ KB\n",
      "None\n"
     ]
    }
   ],
   "source": [
    "print \"Cantidad? No vaya a ser que haga una muestra de tooodos los datos\"\n",
    "print len(file5)\n",
    "print \"Un par de datos:\"\n",
    "print file5.tail()\n",
    "print \"Algunas estadísticas:\"\n",
    "print file5.describe()\n",
    "print \"Qué datos?:\"\n",
    "print file5.columns\n",
    "print \"Más info:\"\n",
    "print file5.info()"
   ]
  },
  {
   "cell_type": "code",
   "execution_count": 263,
   "metadata": {},
   "outputs": [
    {
     "name": "stdout",
     "output_type": "stream",
     "text": [
      "                    Rpayment   latitude   longitude  \\\n",
      "placeID                                               \n",
      "132560                  cash  23.752304  -99.166913   \n",
      "132572                  cash  22.141647 -100.992712   \n",
      "132583                  cash  18.922290  -99.234332   \n",
      "132583                  VISA  18.922290  -99.234332   \n",
      "132583   MasterCard-Eurocard  18.922290  -99.234332   \n",
      "\n",
      "                                            the_geom_meter  \\\n",
      "placeID                                                      \n",
      "132560   0101000020957F0000FC60BDA8E88157C1B2C357D6DA4E...   \n",
      "132572   0101000020957F00005D19BF45294958C18FF7F8E260A8...   \n",
      "132583   0101000020957F0000FBE7171F056F5AC1E8A6C0A5AF55...   \n",
      "132583   0101000020957F0000FBE7171F056F5AC1E8A6C0A5AF55...   \n",
      "132583   0101000020957F0000FBE7171F056F5AC1E8A6C0A5AF55...   \n",
      "\n",
      "                       name                address             city  \\\n",
      "placeID                                                               \n",
      "132560   puesto de gorditas  frente al tecnologico         victoria   \n",
      "132572         Cafe Chaires                      ?  San Luis Potosi   \n",
      "132583     McDonalds Centro   Rayon sn col. Centro       Cuernavaca   \n",
      "132583     McDonalds Centro   Rayon sn col. Centro       Cuernavaca   \n",
      "132583     McDonalds Centro   Rayon sn col. Centro       Cuernavaca   \n",
      "\n",
      "                   state country fax      ...                  alcohol  \\\n",
      "placeID                                   ...                            \n",
      "132560        tamaulipas  mexico   ?      ...        No_Alcohol_Served   \n",
      "132572   San Luis Potosi  Mexico   ?      ...        No_Alcohol_Served   \n",
      "132583           Morelos  Mexico   ?      ...        No_Alcohol_Served   \n",
      "132583           Morelos  Mexico   ?      ...        No_Alcohol_Served   \n",
      "132583           Morelos  Mexico   ?      ...        No_Alcohol_Served   \n",
      "\n",
      "          smoking_area dress_code     accessibility price url Rambience  \\\n",
      "placeID                                                                   \n",
      "132560       permitted   informal  no_accessibility   low   ?  familiar   \n",
      "132572   not permitted   informal        completely   low   ?  familiar   \n",
      "132583   not permitted   informal         partially   low  no  familiar   \n",
      "132583   not permitted   informal         partially   low  no  familiar   \n",
      "132583   not permitted   informal         partially   low  no  familiar   \n",
      "\n",
      "        franchise    area other_services  \n",
      "placeID                                   \n",
      "132560          f    open           none  \n",
      "132572          f  closed           none  \n",
      "132583          t  closed           none  \n",
      "132583          t  closed           none  \n",
      "132583          t  closed           none  \n",
      "\n",
      "[5 rows x 21 columns]\n"
     ]
    }
   ],
   "source": [
    "joinfile = file1.set_index('placeID').join(file5.set_index('placeID'), how='left')\n",
    "#limpiamos en donde falta la info.-\n",
    "joinfile.dropna(inplace=True)\n",
    "print joinfile.head()"
   ]
  },
  {
   "cell_type": "code",
   "execution_count": 280,
   "metadata": {},
   "outputs": [
    {
     "name": "stdout",
     "output_type": "stream",
     "text": [
      "                                       name             Rpayment\n",
      "placeID                                                         \n",
      "132560                   puesto de gorditas                 cash\n",
      "132572                         Cafe Chaires                 cash\n",
      "132583                     McDonalds Centro                 cash\n",
      "132583                     McDonalds Centro                 VISA\n",
      "132583                     McDonalds Centro  MasterCard-Eurocard\n",
      "132583                     McDonalds Centro     bank_debit_cards\n",
      "132584                   Gorditas Dona Tota                 cash\n",
      "132594   tacos de barbacoa enfrente del Tec                 cash\n",
      "132608               Hamburguesas La perica                 cash\n",
      "132609             Pollo_Frito_Buenos_Aires                 cash\n",
      "132613                        carnitas_mata                 cash\n",
      "132626                la perica hamburguesa                 cash\n",
      "132626                la perica hamburguesa     American_Express\n",
      "132667       little pizza Emilio Portes Gil                 cash\n",
      "132706                   Gorditas Dona Tota                 cash\n",
      "132706                   Gorditas Dona Tota                 VISA\n",
      "132715                 tacos de la estacion                 cash\n",
      "132717                         tortas hawai                 cash\n",
      "132723                    Gordas de morales                 cash\n",
      "132723                    Gordas de morales                 VISA\n",
      "132732                   Taqueria EL amigo                  cash\n",
      "132733                        Little Cesarz                 cash\n",
      "132733                        Little Cesarz                 VISA\n",
      "132733                        Little Cesarz  MasterCard-Eurocard\n",
      "132733                        Little Cesarz     bank_debit_cards\n",
      "132740        Carreton de Flautas y Migadas                 cash\n",
      "132754                      Cabana Huasteca                 cash\n",
      "132755                 La Estrella de Dimas                 cash\n",
      "132755                 La Estrella de Dimas                 VISA\n",
      "132755                 La Estrella de Dimas     American_Express\n",
      "...                                     ...                  ...\n",
      "135074    Restaurante la Parroquia Potosina                 cash\n",
      "135074    Restaurante la Parroquia Potosina                 VISA\n",
      "135074    Restaurante la Parroquia Potosina  MasterCard-Eurocard\n",
      "135075                 Mariscos El Pescador                 cash\n",
      "135076            Restaurante Pueblo Bonito                 cash\n",
      "135076            Restaurante Pueblo Bonito                 VISA\n",
      "135076            Restaurante Pueblo Bonito  MasterCard-Eurocard\n",
      "135076            Restaurante Pueblo Bonito     American_Express\n",
      "135079                           Koye Sushi                 cash\n",
      "135079                           Koye Sushi     American_Express\n",
      "135080                          los Toneles                 cash\n",
      "135080                          los Toneles                 VISA\n",
      "135080                          los Toneles  MasterCard-Eurocard\n",
      "135080                          los Toneles     American_Express\n",
      "135081                              El Club                 cash\n",
      "135081                              El Club                 VISA\n",
      "135081                              El Club  MasterCard-Eurocard\n",
      "135082                 la Estrella de Dimas                 cash\n",
      "135085               Tortas Locas Hipocampo                 cash\n",
      "135086          Mcdonalds Parque Tangamanga                 cash\n",
      "135086          Mcdonalds Parque Tangamanga                 VISA\n",
      "135086          Mcdonalds Parque Tangamanga  MasterCard-Eurocard\n",
      "135088                    Cafeteria cenidet                 cash\n",
      "135104                                 vips                 cash\n",
      "135104                                 vips                 VISA\n",
      "135104                                 vips  MasterCard-Eurocard\n",
      "135106           El Rinc�n de San Francisco                 cash\n",
      "135106           El Rinc�n de San Francisco                 VISA\n",
      "135106           El Rinc�n de San Francisco  MasterCard-Eurocard\n",
      "135109                            Paniroles                 cash\n",
      "\n",
      "[253 rows x 2 columns]\n"
     ]
    }
   ],
   "source": [
    "name_payment = joinfile[['name', 'Rpayment']]\n",
    "print name_payment\n"
   ]
  },
  {
   "cell_type": "markdown",
   "metadata": {},
   "source": [
    "### Otras cosas que se pueden hacer es buscar cuáles negocios permiten la venta de alcohol, las ubicaciones, el tipo de vestimenta aceptada, etc"
   ]
  },
  {
   "cell_type": "markdown",
   "metadata": {},
   "source": [
    "# ¿Qué tenemos en file6?"
   ]
  },
  {
   "cell_type": "code",
   "execution_count": 281,
   "metadata": {},
   "outputs": [
    {
     "name": "stdout",
     "output_type": "stream",
     "text": [
      "Cantidad? No vaya a ser que haga una muestra de tooodos los datos\n",
      "1161\n",
      "Un par de datos:\n",
      "     userID  placeID  rating  food_rating  service_rating\n",
      "1156  U1043   132630       1            1               1\n",
      "1157  U1011   132715       1            1               0\n",
      "1158  U1068   132733       1            1               0\n",
      "1159  U1068   132594       1            1               1\n",
      "1160  U1068   132660       0            0               0\n",
      "Algunas estadísticas:\n",
      "             placeID       rating  food_rating  service_rating\n",
      "count    1161.000000  1161.000000  1161.000000     1161.000000\n",
      "mean   134192.041344     1.199828     1.215332        1.090439\n",
      "std      1100.916275     0.773282     0.792294        0.790844\n",
      "min    132560.000000     0.000000     0.000000        0.000000\n",
      "25%    132856.000000     1.000000     1.000000        0.000000\n",
      "50%    135030.000000     1.000000     1.000000        1.000000\n",
      "75%    135059.000000     2.000000     2.000000        2.000000\n",
      "max    135109.000000     2.000000     2.000000        2.000000\n",
      "Qué datos?:\n",
      "Index([u'userID', u'placeID', u'rating', u'food_rating', u'service_rating'], dtype='object')\n",
      "Más info:\n",
      "<class 'pandas.core.frame.DataFrame'>\n",
      "RangeIndex: 1161 entries, 0 to 1160\n",
      "Data columns (total 5 columns):\n",
      "userID            1161 non-null object\n",
      "placeID           1161 non-null int64\n",
      "rating            1161 non-null int64\n",
      "food_rating       1161 non-null int64\n",
      "service_rating    1161 non-null int64\n",
      "dtypes: int64(4), object(1)\n",
      "memory usage: 40.9+ KB\n",
      "None\n"
     ]
    }
   ],
   "source": [
    "print \"Cantidad? No vaya a ser que haga una muestra de tooodos los datos\"\n",
    "print len(file6)\n",
    "print \"Un par de datos:\"\n",
    "print file6.tail()\n",
    "print \"Algunas estadísticas:\"\n",
    "print file6.describe()\n",
    "print \"Qué datos?:\"\n",
    "print file6.columns\n",
    "print \"Más info:\"\n",
    "print file6.info()"
   ]
  },
  {
   "cell_type": "markdown",
   "metadata": {},
   "source": [
    "## ¿A dónde vamos a comer?"
   ]
  },
  {
   "cell_type": "code",
   "execution_count": 312,
   "metadata": {},
   "outputs": [
    {
     "data": {
      "text/plain": [
       "<matplotlib.axes._subplots.AxesSubplot at 0xa6344d0c>"
      ]
     },
     "execution_count": 312,
     "metadata": {},
     "output_type": "execute_result"
    },
    {
     "data": {
      "image/png": "[encoded data removed]",
      "text/plain": [
       "<matplotlib.figure.Figure at 0xa644886c>"
      ]
     },
     "metadata": {},
     "output_type": "display_data"
    }
   ],
   "source": [
    "rating = file6[['placeID', 'rating']]\n",
    "place_rating = rating.set_index('placeID').join(file5.set_index('placeID'), how='left')[['name', 'rating']]\n",
    "place_rating = place_rating.groupby(['name']).sum().sort_values(by='rating',ascending = False)\n",
    "place_rating[0:18].plot(kind='bar', alpha=0.40, figsize=(12,8), sort_columns = True)"
   ]
  },
  {
   "cell_type": "code",
   "execution_count": 314,
   "metadata": {},
   "outputs": [
    {
     "data": {
      "text/plain": [
       "<matplotlib.axes._subplots.AxesSubplot at 0xa5ce8acc>"
      ]
     },
     "execution_count": 314,
     "metadata": {},
     "output_type": "execute_result"
    },
    {
     "data": {
      "image/png": "[encoded data removed]",
      "text/plain": [
       "<matplotlib.figure.Figure at 0xa639c5ec>"
      ]
     },
     "metadata": {},
     "output_type": "display_data"
    }
   ],
   "source": [
    "rating = file6[['placeID', 'service_rating']]\n",
    "place_rating = rating.set_index('placeID').join(file5.set_index('placeID'), how='left')[['name', 'service_rating']]\n",
    "place_rating = place_rating.groupby(['name']).sum().sort_values(by='service_rating',ascending = False)\n",
    "place_rating[0:18].plot(kind='bar', alpha=0.40, figsize=(12,8), sort_columns = True)"
   ]
  },
  {
   "cell_type": "code",
   "execution_count": null,
   "metadata": {},
   "outputs": [],
   "source": []
  }
 ],
 "metadata": {
  "kernelspec": {
   "display_name": "Python 2",
   "language": "python",
   "name": "python2"
  },
  "language_info": {
   "codemirror_mode": {
    "name": "ipython",
    "version": 2
   },
   "file_extension": ".py",
   "mimetype": "text/x-python",
   "name": "python",
   "nbconvert_exporter": "python",
   "pygments_lexer": "ipython2",
   "version": "2.7.14"
  }
 },
 "nbformat": 4,
 "nbformat_minor": 2
}
